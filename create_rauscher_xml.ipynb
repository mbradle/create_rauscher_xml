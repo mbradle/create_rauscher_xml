{
 "cells": [
  {
   "cell_type": "markdown",
   "metadata": {},
   "source": [
    "# Create a Rauscher et al. (2002) webnucleo XML file.\n",
    "The goal of this notebook is to create webnucleo XML files from [Rauscher et al. (2002)](https://ui.adsabs.harvard.edu/abs/2002ApJ...576..323R/abstract) output.  Use the default data or upload other files to create the appropriate XML.  If your current version of the notebook gets corrupted, don't worry. Simply quit and download a new copy from GitHub, or start up a new version on Google Colab."
   ]
  },
  {
   "cell_type": "markdown",
   "metadata": {},
   "source": [
    "Begin by installing and importing the necessary python libraries"
   ]
  },
  {
   "cell_type": "code",
   "execution_count": 1,
   "metadata": {},
   "outputs": [],
   "source": [
    "import sys, io, requests\n",
    "\n",
    "!{sys.executable} -m pip install --quiet numpy\n",
    "!{sys.executable} -m pip install --quiet wnutils\n",
    "\n",
    "import numpy as np\n",
    "import wnutils.xml as wx"
   ]
  },
  {
   "cell_type": "markdown",
   "metadata": {},
   "source": [
    "Retrieve the JINA Reaclib nuclear data from [OSF](https://osf.io/kyhbs/)."
   ]
  },
  {
   "cell_type": "code",
   "execution_count": 2,
   "metadata": {},
   "outputs": [],
   "source": [
    "xml = wx.Xml(io.BytesIO(requests.get('https://osf.io/kyhbs/download').content))\n",
    "nuc_data = xml.get_nuclide_data()\n",
    "reac_data = xml.get_reaction_data()"
   ]
  },
  {
   "cell_type": "markdown",
   "metadata": {},
   "source": [
    "Now define a list of properties for the structure data."
   ]
  },
  {
   "cell_type": "code",
   "execution_count": 3,
   "metadata": {},
   "outputs": [],
   "source": [
    "props = ['grid', 'cell outer total mass', 'cell outer radius', 'cell outer velocity', \n",
    "         'cell density', 'cell temperature', 'cell pressure', 'cell specific energy', \n",
    "         'cell specific entropy', 'cell angular velocity', 'cell A_bar', 'cell Y_e',\n",
    "         'stability', 'NETWORK', 'neutrons', 'H1', 'He3', 'He4', 'C12', 'N14', 'O16',\n",
    "         'Ne20', 'Mg24', 'Si28', 'S32', 'Ar36', 'Ca40', 'Ti44', 'Cr48', 'Fe52', 'Fe54',\n",
    "         'Ni56', 'Fe56', '\\'Fe\\'']"
   ]
  },
  {
   "cell_type": "markdown",
   "metadata": {},
   "source": [
    "Define a routine to create zone data from a *Rauscher et al. (2002)* structure file."
   ]
  },
  {
   "cell_type": "code",
   "execution_count": 4,
   "metadata": {},
   "outputs": [],
   "source": [
    "def create_zone_structure_data(structure_file):\n",
    "    x = np.genfromtxt(structure_file, skip_header=2, dtype=str)\n",
    "\n",
    "    zone_data = {}\n",
    "\n",
    "    for i in range(x.shape[0]):\n",
    "        x[i,0] = x[i,0].rstrip(':')\n",
    "        zone_data[x[i,0]] = {}\n",
    "\n",
    "    for i in range(x.shape[0]):\n",
    "        zone_props = {}\n",
    "        for j in range(x.shape[1]):\n",
    "            zone_props[props[j]] = x[i,j]\n",
    "        zone_data[x[i,0]]['properties'] = zone_props\n",
    "        zone_data[x[i,0]]['mass fractions'] = {}\n",
    "        \n",
    "    return zone_data"
   ]
  },
  {
   "cell_type": "markdown",
   "metadata": {},
   "source": [
    "Now define a routine to retrieve the composition data from the composition file.  Rename neutrons from *nt1* to *n* to be consistent with [webnucleo](https://webnucleo.readthedocs.io) standards.  This routine also adds the *mass below* and *mass* properties to the zones and removes any zone without mass fraction data."
   ]
  },
  {
   "cell_type": "code",
   "execution_count": 5,
   "metadata": {},
   "outputs": [],
   "source": [
    "def update_mass_fractions_in_zone_data(zone_data, composition_file, nuc_data):\n",
    "    with open(composition_file) as f:\n",
    "        s = f.readline().split()\n",
    "        nucs = s[5:]\n",
    "        nucs = list(map(lambda x: x.replace('nt1', 'n'), nucs))\n",
    "\n",
    "    y = np.genfromtxt(composition_file, skip_header=1, dtype=str)\n",
    "\n",
    "    for i in range(y.shape[0]):\n",
    "        zone = y[i,0]\n",
    "        if zone in zone_data:\n",
    "            masses = y[i,3:]\n",
    "            mass_fractions = {}\n",
    "            for j in range(len(masses)):\n",
    "                m = float(masses[j])\n",
    "                if m > 0 and nucs[j] in nuc_data:\n",
    "                    tup = (nucs[j], nuc_data[nucs[j]]['z'], nuc_data[nucs[j]]['a'])\n",
    "                    mass_fractions[tup] = m\n",
    "            zone_data[zone]['mass fractions'] = mass_fractions\n",
    "            zone_data[zone]['properties']['mass below'] = y[i,1]\n",
    "            zone_data[zone]['properties']['mass'] = y[i,2]\n",
    "            \n",
    "    for key, value in dict(zone_data).items():\n",
    "        if len(value['mass fractions']) == 0:\n",
    "            del zone_data[key]"
   ]
  },
  {
   "cell_type": "markdown",
   "metadata": {},
   "source": [
    "Read in the *Rauscher et al. (2002)* data.  The default (*use_default_files = True*) is to download example data from [OSF](https://osf.io/f6tp8/).  To see the download progress, remove the *-s* flag on the curl commands.  \n",
    "\n",
    "To use other files, download them from [2sn](http://2sn.org/nucleosynthesis) (be sure to unzip them).  You will need a pre-supernova structure file and composition files for the pre-supernova and the post-explosion models.  Download them to your the directory from which you are running this notebook, or upload them to the working directory on Colab or Binder.  If you are running the notebook on Google Colab, you can upload the data to the work directory by clicking on the directory tab to the left and then clicking the upload symbol. Change *s25a28.presn_structure* to your structure file name, *s25a29.presn_comp* to your pre-supernova composition file name, and *s28a28d.expl_comp* to your post-explosion composition file name.  Change the variable *use_default_files* to *False*, and execute the remaining notebook cells."
   ]
  },
  {
   "cell_type": "code",
   "execution_count": 6,
   "metadata": {},
   "outputs": [],
   "source": [
    "use_default_files = True\n",
    "\n",
    "if use_default_files:\n",
    "    !curl -o s15a28.presn_structure -J -L -s https://osf.io/tbghn/download\n",
    "    !curl -o s15a29.presn_comp -J -L -s https://osf.io/fv4xg/download\n",
    "    !curl -o s15a28d.expl_comp -J -L -s https://osf.io/vxmc3/download\n",
    "        \n",
    "    structure_file = 's15a28.presn_structure'\n",
    "    presn_composition_file = 's15a29.presn_comp'\n",
    "    expl_composition_file = 's15a28d.expl_comp'\n",
    "\n",
    "else:\n",
    "    structure_file = 's25a28.presn_structure'\n",
    "    presn_composition_file = 's25a29.presn_comp'\n",
    "    expl_composition_file = 's25a28d.expl_comp'"
   ]
  },
  {
   "cell_type": "markdown",
   "metadata": {},
   "source": [
    "Create the zone data from the structure file.  "
   ]
  },
  {
   "cell_type": "code",
   "execution_count": 7,
   "metadata": {},
   "outputs": [],
   "source": [
    "zone_data = create_zone_structure_data(structure_file)"
   ]
  },
  {
   "cell_type": "markdown",
   "metadata": {},
   "source": [
    "Now retrieve the composition data from the pre-supernova star.  Rename neutrons from *nt1* to *n* to be consistent with [webnucleo](https://webnucleo.readthedocs.io) standards."
   ]
  },
  {
   "cell_type": "code",
   "execution_count": 8,
   "metadata": {},
   "outputs": [],
   "source": [
    "update_mass_fractions_in_zone_data(zone_data, presn_composition_file, nuc_data)"
   ]
  },
  {
   "cell_type": "markdown",
   "metadata": {},
   "source": [
    "Save the presupernova model to XML.  Change *my_presn_output.xml* to your desired XML output name.  The default is to save only a zone data XML file.  To include nuclide and reaction data, change *full_xml* to *True*."
   ]
  },
  {
   "cell_type": "code",
   "execution_count": 9,
   "metadata": {},
   "outputs": [],
   "source": [
    "presn_output_file = 'my_presn_output.xml'\n",
    "\n",
    "full_xml = False\n",
    "\n",
    "if full_xml:\n",
    "    new_presn_xml = wx.New_Xml('libnucnet_input')\n",
    "    new_presn_xml.set_nuclide_data(nuc_data)\n",
    "    new_presn_xml.set_reaction_data(reac_data)\n",
    "    new_presn_xml.set_zone_data(zone_data)\n",
    "else:\n",
    "    new_presn_xml = wx.New_Xml('zone_data')\n",
    "    new_presn_xml.set_zone_data(zone_data)\n",
    "\n",
    "new_presn_xml.write(presn_output_file)"
   ]
  },
  {
   "cell_type": "markdown",
   "metadata": {},
   "source": [
    "Now create a post-explosion model.  Create a new zone_data with the structure file and update with mass fraction data from the explosion composition data."
   ]
  },
  {
   "cell_type": "code",
   "execution_count": 10,
   "metadata": {},
   "outputs": [],
   "source": [
    "zone_data = create_zone_structure_data(structure_file)\n",
    "update_mass_fractions_in_zone_data(zone_data, expl_composition_file, nuc_data)"
   ]
  },
  {
   "cell_type": "markdown",
   "metadata": {},
   "source": [
    "Save the post-explosion model to XML.  Change *my_expl_output.xml* to your desired XML output name.  The default is to save only a zone data XML file.  To include nuclide and reaction data, change *full_xml* to *True*."
   ]
  },
  {
   "cell_type": "code",
   "execution_count": 11,
   "metadata": {},
   "outputs": [],
   "source": [
    "expl_output_file = 'my_expl_output.xml'\n",
    "\n",
    "full_xml = False\n",
    "\n",
    "if full_xml:\n",
    "    new_expl_xml = wx.New_Xml('libnucnet_input')\n",
    "    new_expl_xml.set_nuclide_data(nuc_data)\n",
    "    new_expl_xml.set_reaction_data(reac_data)\n",
    "    new_expl_xml.set_zone_data(zone_data)\n",
    "else:\n",
    "    new_expl_xml = wx.New_Xml('zone_data')\n",
    "    new_expl_xml.set_zone_data(zone_data)\n",
    "\n",
    "new_expl_xml.write(expl_output_file)"
   ]
  },
  {
   "cell_type": "code",
   "execution_count": null,
   "metadata": {},
   "outputs": [],
   "source": []
  }
 ],
 "metadata": {
  "interpreter": {
   "hash": "fd578b525fe7fcca8a3ea11350d18bcbeb29af20bd1df15f6c5fd2c9cf111483"
  },
  "kernelspec": {
   "display_name": "Python 3",
   "language": "python",
   "name": "python3"
  },
  "language_info": {
   "codemirror_mode": {
    "name": "ipython",
    "version": 3
   },
   "file_extension": ".py",
   "mimetype": "text/x-python",
   "name": "python",
   "nbconvert_exporter": "python",
   "pygments_lexer": "ipython3",
   "version": "3.7.12"
  }
 },
 "nbformat": 4,
 "nbformat_minor": 2
}
